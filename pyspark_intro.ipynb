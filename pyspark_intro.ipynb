{
 "cells": [
  {
   "cell_type": "markdown",
   "metadata": {},
   "source": [
    "# Introduction to PySpark\n",
    "\n",
    "Some exploration into using PySpark for Data Science. \n",
    "\n",
    "Generally, pandas should only be used with 5 to 10 times as much RAM as the size of your dataset, whereas PySpark is scalable and allows for parallel programming."
   ]
  },
  {
   "cell_type": "code",
   "execution_count": 1,
   "metadata": {},
   "outputs": [],
   "source": [
    "import findspark\n",
    "findspark.init()"
   ]
  },
  {
   "cell_type": "code",
   "execution_count": 2,
   "metadata": {},
   "outputs": [],
   "source": [
    "import pyspark\n",
    "from pyspark.sql import SparkSession\n",
    "spark = SparkSession.builder.getOrCreate()"
   ]
  },
  {
   "cell_type": "markdown",
   "metadata": {},
   "source": [
    "## Spark SQL"
   ]
  },
  {
   "cell_type": "code",
   "execution_count": 3,
   "metadata": {},
   "outputs": [
    {
     "name": "stdout",
     "output_type": "stream",
     "text": [
      "+-----+\n",
      "|hello|\n",
      "+-----+\n",
      "|spark|\n",
      "+-----+\n",
      "\n"
     ]
    }
   ],
   "source": [
    "df = spark.sql(\"select 'spark' as hello\")\n",
    "df.show()"
   ]
  },
  {
   "cell_type": "markdown",
   "metadata": {},
   "source": [
    "## Reading Data\n",
    "\n",
    "Using NYC flights in 2013:\n",
    "- Converting to parquet format and reloading so that only data used is loaded to memory\n",
    "- Query spark dataframe"
   ]
  },
  {
   "cell_type": "code",
   "execution_count": 4,
   "metadata": {},
   "outputs": [
    {
     "data": {
      "text/plain": [
       "DataFrame[year: int, month: int, day: int, dep_time: string, sched_dep_time: int, dep_delay: string, arr_time: string, sched_arr_time: int, arr_delay: string, carrier: string, flight: int, tailnum: string, origin: string, dest: string, air_time: string, distance: int, hour: int, minute: int, time_hour: string]"
      ]
     },
     "metadata": {},
     "output_type": "display_data"
    }
   ],
   "source": [
    "file_location = \"data/flight_data.csv\"\n",
    "df = spark.read.format(\"csv\").option(\"inferSchema\", True).option(\"header\", True).load(file_location)\n",
    "display(df)"
   ]
  },
  {
   "cell_type": "code",
   "execution_count": 5,
   "metadata": {},
   "outputs": [
    {
     "data": {
      "text/plain": [
       "DataFrame[year: int, month: int, day: int, dep_time: string, sched_dep_time: int, dep_delay: string, arr_time: string, sched_arr_time: int, arr_delay: string, carrier: string, flight: int, tailnum: string, origin: string, dest: string, air_time: string, distance: int, hour: int, minute: int, time_hour: string]"
      ]
     },
     "metadata": {},
     "output_type": "display_data"
    }
   ],
   "source": [
    "# df.write.save(\"data/flight_data_parquet\", format='parquet')\n",
    "df = spark.read.load(\"data/flight_data_parquet\")\n",
    "display(df)\n",
    "# df.show()"
   ]
  },
  {
   "cell_type": "code",
   "execution_count": 6,
   "metadata": {},
   "outputs": [],
   "source": [
    "# Convert air time column type\n",
    "from pyspark.sql.types import *\n",
    "df = df.withColumn(\"air_time\", df[\"air_time\"].cast(IntegerType()))"
   ]
  },
  {
   "cell_type": "code",
   "execution_count": 7,
   "metadata": {},
   "outputs": [
    {
     "name": "stdout",
     "output_type": "stream",
     "text": [
      "+----+-----+--------------+\n",
      "|year|month|total_distance|\n",
      "+----+-----+--------------+\n",
      "|2013|    1|      27188805|\n",
      "|2013|    2|      24975509|\n",
      "|2013|    3|      29179636|\n",
      "|2013|    4|      29427294|\n",
      "|2013|    5|      29974128|\n",
      "|2013|    6|      29856388|\n",
      "|2013|    7|      31149199|\n",
      "|2013|    8|      31149334|\n",
      "|2013|    9|      28711426|\n",
      "|2013|   10|      30012086|\n",
      "|2013|   11|      28639718|\n",
      "|2013|   12|      29954084|\n",
      "+----+-----+--------------+\n",
      "\n"
     ]
    }
   ],
   "source": [
    "df.createOrReplaceTempView(\"flights\")\n",
    "year_flights = spark.sql(\"\"\"\n",
    "    select year, month, sum(distance) as total_distance\n",
    "    from flights\n",
    "    group by 1, 2\n",
    "    order by 1, 2\n",
    "    \"\"\")\n",
    "year_flights.show()"
   ]
  },
  {
   "cell_type": "markdown",
   "metadata": {},
   "source": [
    "# Plotting\n",
    "\n",
    "Either convert to a pandas dataframe or use Apache Zeppelin to plot."
   ]
  },
  {
   "cell_type": "code",
   "execution_count": 8,
   "metadata": {},
   "outputs": [],
   "source": [
    "import pandas as pd\n",
    "import seaborn as sns"
   ]
  },
  {
   "cell_type": "code",
   "execution_count": 9,
   "metadata": {},
   "outputs": [],
   "source": [
    "year_flights_pd = year_flights.toPandas()"
   ]
  },
  {
   "cell_type": "code",
   "execution_count": 10,
   "metadata": {},
   "outputs": [
    {
     "data": {
      "text/plain": [
       "<matplotlib.axes._subplots.AxesSubplot at 0x1bb15e55248>"
      ]
     },
     "execution_count": 10,
     "metadata": {},
     "output_type": "execute_result"
    },
    {
     "data": {
      "image/png": "[encoded data removed]",
      "text/plain": [
       "<Figure size 432x288 with 1 Axes>"
      ]
     },
     "metadata": {
      "needs_background": "light"
     },
     "output_type": "display_data"
    }
   ],
   "source": [
    "sns.barplot(x=\"month\", y=\"total_distance\", data=year_flights_pd)"
   ]
  },
  {
   "cell_type": "markdown",
   "metadata": {},
   "source": [
    "## Model Fitting\n",
    "\n",
    "While scikit-learn is great when working with pandas, it doesn’t scale to large data sets in a distributed environment. MLlib is most generally used and operates natively on spark dataframes (although it is possible to parallelize scikit-learn with spark). "
   ]
  },
  {
   "cell_type": "code",
   "execution_count": 11,
   "metadata": {},
   "outputs": [],
   "source": [
    "from pyspark.ml.feature import VectorAssembler  # Create a vector representation for features\n",
    "from pyspark.ml.regression import LinearRegression"
   ]
  },
  {
   "cell_type": "code",
   "execution_count": 12,
   "metadata": {},
   "outputs": [],
   "source": [
    "# Drop nulls\n",
    "df = df.filter(df['air_time'].isNotNull())\n",
    "df = df.filter(df['distance'].isNotNull())\n",
    "# df.drop.na()"
   ]
  },
  {
   "cell_type": "code",
   "execution_count": 13,
   "metadata": {},
   "outputs": [],
   "source": [
    "# Simple model for air time vs flight distance\n",
    "assembler = VectorAssembler(inputCols=['air_time'], outputCol='features')\n",
    "train_df = assembler.transform(df)\n",
    "lr_model = LinearRegression(featuresCol = 'features', labelCol='distance').fit(train_df)\n",
    "trainingSummary = lr_model.summary"
   ]
  },
  {
   "cell_type": "code",
   "execution_count": 14,
   "metadata": {},
   "outputs": [
    {
     "name": "stdout",
     "output_type": "stream",
     "text": [
      "Coefficients: [7.781414355687039]\n",
      "RMSE: 100.400201\n",
      "R2: 0.981387\n"
     ]
    }
   ],
   "source": [
    "print(\"Coefficients: \" + str(lr_model.coefficients))\n",
    "print(\"RMSE: %f\" % trainingSummary.rootMeanSquaredError)\n",
    "print(\"R2: %f\" % trainingSummary.r2)"
   ]
  },
  {
   "cell_type": "markdown",
   "metadata": {},
   "source": [
    "A high R2 score means that the distance travelled is well explained by the flight air time, as would be expected."
   ]
  },
  {
   "cell_type": "markdown",
   "metadata": {},
   "source": [
    "## Scaling Pandas Operations\n",
    "\n",
    "We can use pandas UDFs (user defined functions) to perform distributed computing with pandas dataframes within a spark environment. This is the preferred method of parallelization because it distributes threads across driver nodes. Note that we use the `groupby` and `apply` functions on a spark dataframe.\n",
    "\n",
    "This avoids the need to convert the whole dataframe using toPandas(), which will fail for large dataframes due to an out of memory exception. We can thus scale to large datasets as long as we have a good way to partition the dataframe. \n",
    "\n",
    "This requires pyarrow. `pip install pyarrow`"
   ]
  },
  {
   "cell_type": "code",
   "execution_count": 15,
   "metadata": {},
   "outputs": [],
   "source": [
    "from pyspark.sql.functions import pandas_udf, PandasUDFType\n",
    "from pyspark.sql.functions import col, count, rand, collect_list, explode, struct, lit"
   ]
  },
  {
   "cell_type": "code",
   "execution_count": 16,
   "metadata": {},
   "outputs": [
    {
     "data": {
      "text/plain": [
       "350217607"
      ]
     },
     "execution_count": 16,
     "metadata": {},
     "output_type": "execute_result"
    }
   ],
   "source": [
    "# Aggregate function is to sum\n",
    "year_flights_pd.dropna(inplace=True)\n",
    "total_distance = sum(year_flights_pd['total_distance'])\n",
    "total_distance"
   ]
  },
  {
   "cell_type": "code",
   "execution_count": 17,
   "metadata": {},
   "outputs": [
    {
     "name": "stdout",
     "output_type": "stream",
     "text": [
      "+----+--------------+\n",
      "|year|total_distance|\n",
      "+----+--------------+\n",
      "|2013|     350217607|\n",
      "+----+--------------+\n",
      "\n"
     ]
    }
   ],
   "source": [
    "group_column = 'year'\n",
    "x_columns = ['total_distance']\n",
    "schema = year_flights.select(group_column, *x_columns).schema  # define the output format\n",
    "\n",
    "@pandas_udf(schema, PandasUDFType.GROUPED_MAP)\n",
    "# Input/output are both a pandas.DataFrame\n",
    "def year_sum(pdf):\n",
    "    group_key = pdf[group_column].iloc[0]\n",
    "    x = pdf[x_columns]\n",
    "    total_distance = x.sum()\n",
    "    return pd.DataFrame({group_column: [group_key],\n",
    "                         x_columns[0]: [total_distance]})\n",
    "\n",
    "year_flights.groupby(group_column).apply(year_sum).show()"
   ]
  },
  {
   "cell_type": "code",
   "execution_count": 18,
   "metadata": {},
   "outputs": [
    {
     "name": "stdout",
     "output_type": "stream",
     "text": [
      "+---------------------+\n",
      "|count(total_distance)|\n",
      "+---------------------+\n",
      "|                   12|\n",
      "+---------------------+\n",
      "\n"
     ]
    }
   ],
   "source": [
    "@pandas_udf(year_flights.schema, PandasUDFType.GROUPED_MAP)\n",
    "# Input/output are both a pandas.DataFrame\n",
    "def pandas_subtract_mean(pdf):\n",
    "    return pdf.assign(total_distance=pdf.total_distance - pdf.total_distance.mean())\n",
    "\n",
    "year_flights.groupby('year').apply(pandas_subtract_mean).agg(count(col('total_distance'))).show()"
   ]
  },
  {
   "cell_type": "code",
   "execution_count": 19,
   "metadata": {},
   "outputs": [
    {
     "name": "stdout",
     "output_type": "stream",
     "text": [
      "+----+-------------------+-------------------+\n",
      "|year|                 x1|                 x2|\n",
      "+----+-------------------+-------------------+\n",
      "|2013|0.07333048090834393|0.06719204507058933|\n",
      "+----+-------------------+-------------------+\n",
      "\n"
     ]
    }
   ],
   "source": [
    "import statsmodels.api as sm\n",
    "\n",
    "# df2 has four columns: id, y, x1, x2\n",
    "df2 = year_flights.withColumn('y', rand()).withColumn('x1', rand()).withColumn('x2', rand()).select('year', 'y', 'x1', 'x2')\n",
    "\n",
    "group_column = 'year'\n",
    "y_column = 'y'\n",
    "x_columns = ['x1', 'x2']\n",
    "schema = df2.select(group_column, *x_columns).schema\n",
    "\n",
    "@pandas_udf(schema, PandasUDFType.GROUPED_MAP)\n",
    "# Input/output are both a pandas.DataFrame\n",
    "def ols(pdf):\n",
    "    group_key = pdf[group_column].iloc[0]\n",
    "    y = pdf[y_column]\n",
    "    X = pdf[x_columns]\n",
    "    X = sm.add_constant(X)\n",
    "    model = sm.OLS(y, X).fit()\n",
    "    return pd.DataFrame([[group_key] + [model.params[i] for i in x_columns]], columns=[group_column] + x_columns)\n",
    "\n",
    "beta = df2.groupby(group_column).apply(ols)\n",
    "beta.show()"
   ]
  },
  {
   "cell_type": "markdown",
   "metadata": {},
   "source": [
    "## Parallelization \n",
    "\n",
    "There are other ways to parallelize operations outside of pandas UDFs:\n",
    "- If we use spark dataframes and libraries then the task will be natively parallelized and distributed\n",
    "- The multiprocessing library provides a thread abstraction to create concurrent threads of execution, this doesn't however distribute across driver nodes unless using spark dataframes or libraries"
   ]
  },
  {
   "cell_type": "code",
   "execution_count": 20,
   "metadata": {},
   "outputs": [],
   "source": [
    "from multiprocessing.pool import ThreadPool\n",
    "pool = ThreadPool(2)  # 2 concurrent threads"
   ]
  },
  {
   "cell_type": "code",
   "execution_count": 21,
   "metadata": {},
   "outputs": [
    {
     "data": {
      "text/plain": [
       "[6, 7, 8]"
      ]
     },
     "execution_count": 21,
     "metadata": {},
     "output_type": "execute_result"
    }
   ],
   "source": [
    "parameters = [1, 2, 3]\n",
    "base_val = 5\n",
    "def add_val(a, b):\n",
    "    return a + b\n",
    "\n",
    "pool.map(lambda x: add_val(base_val, x), parameters)"
   ]
  },
  {
   "cell_type": "code",
   "execution_count": 22,
   "metadata": {},
   "outputs": [
    {
     "data": {
      "text/html": [
       "<div>\n",
       "<style scoped>\n",
       "    .dataframe tbody tr th:only-of-type {\n",
       "        vertical-align: middle;\n",
       "    }\n",
       "\n",
       "    .dataframe tbody tr th {\n",
       "        vertical-align: top;\n",
       "    }\n",
       "\n",
       "    .dataframe thead th {\n",
       "        text-align: right;\n",
       "    }\n",
       "</style>\n",
       "<table border=\"1\" class=\"dataframe\">\n",
       "  <thead>\n",
       "    <tr style=\"text-align: right;\">\n",
       "      <th></th>\n",
       "      <th>a</th>\n",
       "      <th>b</th>\n",
       "      <th>c</th>\n",
       "    </tr>\n",
       "  </thead>\n",
       "  <tbody>\n",
       "    <tr>\n",
       "      <td>0</td>\n",
       "      <td>1</td>\n",
       "      <td>2</td>\n",
       "      <td>5</td>\n",
       "    </tr>\n",
       "  </tbody>\n",
       "</table>\n",
       "</div>"
      ],
      "text/plain": [
       "   a  b  c\n",
       "0  1  2  5"
      ]
     },
     "execution_count": 22,
     "metadata": {},
     "output_type": "execute_result"
    }
   ],
   "source": [
    "base_df = pd.DataFrame({'a': [1, 2, 3, 4],\n",
    "                        'b': [2, 2, 3, 3],\n",
    "                        'c': [5, 4, 3, 2]\n",
    "                       })\n",
    "\n",
    "def return_val(df, key):\n",
    "    return df[df['a'] == key]\n",
    "\n",
    "return_df = pool.map(lambda x: return_val(base_df, x), parameters)  # list of pandas dataframes\n",
    "return_df[0]"
   ]
  }
 ],
 "metadata": {
  "kernelspec": {
   "display_name": "Python 3",
   "language": "python",
   "name": "python3"
  },
  "language_info": {
   "codemirror_mode": {
    "name": "ipython",
    "version": 3
   },
   "file_extension": ".py",
   "mimetype": "text/x-python",
   "name": "python",
   "nbconvert_exporter": "python",
   "pygments_lexer": "ipython3",
   "version": "3.7.4"
  }
 },
 "nbformat": 4,
 "nbformat_minor": 2
}
